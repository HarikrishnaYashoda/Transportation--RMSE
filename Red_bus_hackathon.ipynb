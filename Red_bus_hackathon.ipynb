{
  "nbformat": 4,
  "nbformat_minor": 0,
  "metadata": {
    "colab": {
      "provenance": [],
      "authorship_tag": "ABX9TyNv0aRFUXW8Ie6l/5FdFy9w",
      "include_colab_link": true
    },
    "kernelspec": {
      "name": "python3",
      "display_name": "Python 3"
    },
    "language_info": {
      "name": "python"
    }
  },
  "cells": [
    {
      "cell_type": "markdown",
      "metadata": {
        "id": "view-in-github",
        "colab_type": "text"
      },
      "source": [
        "<a href=\"https://colab.research.google.com/github/HarikrishnaYashoda/Transportation--RMSE/blob/main/Red_bus_hackathon.ipynb\" target=\"_parent\"><img src=\"https://colab.research.google.com/assets/colab-badge.svg\" alt=\"Open In Colab\"/></a>"
      ]
    },
    {
      "cell_type": "markdown",
      "source": [
        "**Data Loading & Basic Preprocessing**\n",
        "\n",
        "Read CSVs, convert date columns to datetime, check for nulls, explore distributions."
      ],
      "metadata": {
        "id": "Fq6Usm7RRBDI"
      }
    },
    {
      "cell_type": "code",
      "execution_count": null,
      "metadata": {
        "id": "rVSPKBgv7e-G"
      },
      "outputs": [],
      "source": [
        "import pandas as pd\n",
        "\n",
        "train = pd.read_csv('/content/train.csv', parse_dates=['doj'])\n",
        "test = pd.read_csv('/content/test_8gqdJqH.csv', parse_dates=['doj'])\n",
        "transactions = pd.read_csv('/content/transactions.csv', parse_dates=['doj', 'doi'])\n",
        "submission_format = pd.read_csv('/content/sample_submission_TQv3O0x.csv')"
      ]
    },
    {
      "cell_type": "code",
      "source": [
        "print(\"Train:\", train.shape, train.columns.tolist())\n",
        "print(\"Test:\", test.shape, test.columns.tolist())\n",
        "print(\"Transactions:\", transactions.shape, transactions.columns.tolist())\n",
        "print(\"Submission Format:\", submission_format.shape)\n"
      ],
      "metadata": {
        "colab": {
          "base_uri": "https://localhost:8080/"
        },
        "id": "xS8yM3oYRov0",
        "outputId": "00ed5408-3c6c-41c5-c258-789790aadea5"
      },
      "execution_count": null,
      "outputs": [
        {
          "output_type": "stream",
          "name": "stdout",
          "text": [
            "Train: (67200, 4) ['doj', 'srcid', 'destid', 'final_seatcount']\n",
            "Test: (5900, 4) ['route_key', 'doj', 'srcid', 'destid']\n",
            "Transactions: (2266100, 11) ['doj', 'doi', 'srcid', 'destid', 'srcid_region', 'destid_region', 'srcid_tier', 'destid_tier', 'cumsum_seatcount', 'cumsum_searchcount', 'dbd']\n",
            "Submission Format: (5900, 2)\n"
          ]
        }
      ]
    },
    {
      "cell_type": "code",
      "source": [
        "# Ensure transactions_15 has these columns first\n",
        "transactions_15['seat_to_search_ratio'] = (\n",
        "    transactions_15['cumsum_seatcount'] / (transactions_15['cumsum_searchcount'] + 1)\n",
        ")\n",
        "\n",
        "# Join engineered features\n",
        "train_fe = train.merge(transactions_15, on=['doj', 'srcid', 'destid'], how='left')\n",
        "test_fe = test.merge(transactions_15, on=['doj', 'srcid', 'destid'], how='left')  # <- this is crucial\n"
      ],
      "metadata": {
        "id": "O8DxUdSwiXKN"
      },
      "execution_count": null,
      "outputs": []
    },
    {
      "cell_type": "code",
      "source": [
        "# Null check\n",
        "print(\"Train nulls:\\n\", train.isnull().sum())\n",
        "print(\"Transactions nulls:\\n\", transactions.isnull().sum())\n",
        "\n",
        "# Data types\n",
        "print(\"Transactions.dtypes:\\n\", transactions.dtypes)\n"
      ],
      "metadata": {
        "colab": {
          "base_uri": "https://localhost:8080/"
        },
        "id": "Sx9kiXscSWrJ",
        "outputId": "63e5ed88-6e4d-4ee7-aa8d-4fb4f88ac054"
      },
      "execution_count": null,
      "outputs": [
        {
          "output_type": "stream",
          "name": "stdout",
          "text": [
            "Train nulls:\n",
            " doj                0\n",
            "srcid              0\n",
            "destid             0\n",
            "final_seatcount    0\n",
            "dtype: int64\n",
            "Transactions nulls:\n",
            " doj                   0\n",
            "doi                   0\n",
            "srcid                 0\n",
            "destid                0\n",
            "srcid_region          0\n",
            "destid_region         0\n",
            "srcid_tier            0\n",
            "destid_tier           0\n",
            "cumsum_seatcount      0\n",
            "cumsum_searchcount    0\n",
            "dbd                   0\n",
            "dtype: int64\n",
            "Transactions.dtypes:\n",
            " doj                   datetime64[ns]\n",
            "doi                   datetime64[ns]\n",
            "srcid                          int64\n",
            "destid                         int64\n",
            "srcid_region                  object\n",
            "destid_region                 object\n",
            "srcid_tier                    object\n",
            "destid_tier                   object\n",
            "cumsum_seatcount             float64\n",
            "cumsum_searchcount           float64\n",
            "dbd                            int64\n",
            "dtype: object\n"
          ]
        }
      ]
    },
    {
      "cell_type": "code",
      "source": [
        "print(train.head())\n"
      ],
      "metadata": {
        "colab": {
          "base_uri": "https://localhost:8080/"
        },
        "id": "dU42gWKTSbeq",
        "outputId": "cab4808b-7b03-48f7-b261-5205b9c8ce38"
      },
      "execution_count": null,
      "outputs": [
        {
          "output_type": "stream",
          "name": "stdout",
          "text": [
            "         doj  srcid  destid  final_seatcount\n",
            "0 2023-03-01     45      46           2838.0\n",
            "1 2023-03-01     46      45           2298.0\n",
            "2 2023-03-01     45      47           2720.0\n",
            "3 2023-03-01     47      45           2580.0\n",
            "4 2023-03-01     46       9           4185.0\n"
          ]
        }
      ]
    },
    {
      "cell_type": "code",
      "source": [
        "print(transactions.sample(5))"
      ],
      "metadata": {
        "colab": {
          "base_uri": "https://localhost:8080/"
        },
        "id": "1nVruJ4BSiIT",
        "outputId": "87b79c0b-69ff-4e93-bf64-96978516a45f"
      },
      "execution_count": null,
      "outputs": [
        {
          "output_type": "stream",
          "name": "stdout",
          "text": [
            "               doj        doi  srcid  destid         srcid_region  \\\n",
            "1668102 2024-08-20 2024-07-24     45      47            Karnataka   \n",
            "1613323 2024-08-02 2024-07-16     40       2  Maharashtra and Goa   \n",
            "2207478 2025-02-10 2025-01-13     47       6       Andhra Pradesh   \n",
            "1312082 2024-04-27 2024-04-04     47      30       Andhra Pradesh   \n",
            "2176488 2025-01-31 2025-01-03     33      46           Tamil Nadu   \n",
            "\n",
            "               destid_region srcid_tier destid_tier  cumsum_seatcount  \\\n",
            "1668102       Andhra Pradesh     Tier 1      Tier 1              12.0   \n",
            "1613323  Maharashtra and Goa     Tier 1      Tier 1               0.0   \n",
            "2207478       Andhra Pradesh     Tier 1      Tier 3               0.0   \n",
            "1312082  Maharashtra and Goa     Tier 1      Tier 1              25.0   \n",
            "2176488           Tamil Nadu     Tier 3      Tier 1              15.0   \n",
            "\n",
            "         cumsum_searchcount  dbd  \n",
            "1668102               596.0   27  \n",
            "1613323               572.0   17  \n",
            "2207478                70.0   28  \n",
            "1312082               305.0   23  \n",
            "2176488               250.0   28  \n"
          ]
        }
      ]
    },
    {
      "cell_type": "code",
      "source": [
        "# Basic date checks\n",
        "print(\"Train DOJs:\", train.doj.min(), \"to\", train.doj.max())\n",
        "print(\"Transactions DOIs:\", transactions.doi.min(), \"to\", transactions.doi.max())\n",
        "\n",
        "# Validate dbd\n",
        "transactions['computed_dbd'] = (transactions['doj'] - transactions['doi']).dt.days\n",
        "mismatch = (transactions['computed_dbd'] != transactions['dbd']).sum()\n",
        "print(\"Mismatch in dbd computation:\", mismatch)\n"
      ],
      "metadata": {
        "colab": {
          "base_uri": "https://localhost:8080/"
        },
        "id": "INbCF0g9Sp2C",
        "outputId": "a48f6dbe-db5b-4ee1-88b1-3c234734a503"
      },
      "execution_count": null,
      "outputs": [
        {
          "output_type": "stream",
          "name": "stdout",
          "text": [
            "Train DOJs: 2023-03-01 00:00:00 to 2024-12-31 00:00:00\n",
            "Transactions DOIs: 2023-01-30 00:00:00 to 2025-02-28 00:00:00\n",
            "Mismatch in dbd computation: 0\n"
          ]
        }
      ]
    },
    {
      "cell_type": "code",
      "source": [
        "# Target distribution\n",
        "train['final_seatcount'].hist(bins=30)\n",
        "\n",
        "# Unique route combinations\n",
        "print(\"Unique routes in train:\", train[['srcid', 'destid']].nunique())\n",
        "print(\"Unique cities:\", pd.concat([train['srcid'], train['destid']]).nunique())\n"
      ],
      "metadata": {
        "colab": {
          "base_uri": "https://localhost:8080/",
          "height": 502
        },
        "id": "kGHzkjVASzJb",
        "outputId": "9662420d-c2df-4ff4-96f8-77bea45304a4"
      },
      "execution_count": null,
      "outputs": [
        {
          "output_type": "stream",
          "name": "stdout",
          "text": [
            "Unique routes in train: srcid     45\n",
            "destid    45\n",
            "dtype: int64\n",
            "Unique cities: 48\n"
          ]
        },
        {
          "output_type": "display_data",
          "data": {
            "text/plain": [
              "<Figure size 640x480 with 1 Axes>"
            ],
            "image/png": "[encoded data removed]"
          },
          "metadata": {}
        }
      ]
    },
    {
      "cell_type": "code",
      "source": [
        "transactions['day_of_week'] = transactions['doj'].dt.dayofweek\n",
        "transactions['month'] = transactions['doj'].dt.month\n",
        "transactions['is_weekend'] = transactions['day_of_week'].isin([5, 6])\n"
      ],
      "metadata": {
        "id": "pTpErVjFe_er"
      },
      "execution_count": null,
      "outputs": []
    },
    {
      "cell_type": "markdown",
      "source": [
        "**Feature Engineering**"
      ],
      "metadata": {
        "id": "FxVc8GP4gecM"
      }
    },
    {
      "cell_type": "code",
      "source": [
        "transactions_15 = transactions[transactions['dbd'] == 15]\n"
      ],
      "metadata": {
        "id": "KfkGIG9jfsU0"
      },
      "execution_count": null,
      "outputs": []
    },
    {
      "cell_type": "markdown",
      "source": [
        "| Feature Name             | Description                            |\n",
        "| ------------------------ | -------------------------------------- |\n",
        "| `cumsum_seatcount`       | Bookings made up to 15 days before DOJ |\n",
        "| `cumsum_searchcount`     | Searches made up to 15 days before DOJ |\n",
        "| `seat_to_search_ratio`   | Demand-interest proxy: seat/search     |\n",
        "| `srcid`, `destid`, `doj` | Join keys                              |\n"
      ],
      "metadata": {
        "id": "7LMEmW-1glhM"
      }
    },
    {
      "cell_type": "code",
      "source": [
        "missing_cols = set(features) - set(test_fe.columns)\n",
        "print(\"Missing columns in test_fe:\", missing_cols)\n"
      ],
      "metadata": {
        "colab": {
          "base_uri": "https://localhost:8080/"
        },
        "id": "BlrhKLhRigQZ",
        "outputId": "3af22ab0-9cba-4951-cf39-7459d0d77455"
      },
      "execution_count": null,
      "outputs": [
        {
          "output_type": "stream",
          "name": "stdout",
          "text": [
            "Missing columns in test_fe: set()\n"
          ]
        }
      ]
    },
    {
      "cell_type": "code",
      "source": [
        "transactions_15['seat_to_search_ratio'] = transactions_15['cumsum_seatcount'] / (transactions_15['cumsum_searchcount'] + 1)\n"
      ],
      "metadata": {
        "colab": {
          "base_uri": "https://localhost:8080/"
        },
        "id": "Z8bvxNkagjEu",
        "outputId": "959bc633-67a9-4188-be49-6a3592986f6e"
      },
      "execution_count": null,
      "outputs": [
        {
          "output_type": "stream",
          "name": "stderr",
          "text": [
            "<ipython-input-56-4152873893>:1: SettingWithCopyWarning: \n",
            "A value is trying to be set on a copy of a slice from a DataFrame.\n",
            "Try using .loc[row_indexer,col_indexer] = value instead\n",
            "\n",
            "See the caveats in the documentation: https://pandas.pydata.org/pandas-docs/stable/user_guide/indexing.html#returning-a-view-versus-a-copy\n",
            "  transactions_15['seat_to_search_ratio'] = transactions_15['cumsum_seatcount'] / (transactions_15['cumsum_searchcount'] + 1)\n"
          ]
        }
      ]
    },
    {
      "cell_type": "code",
      "source": [
        "test = pd.merge(test, transactions_15[['srcid', 'destid', 'doj', 'cumsum_seatcount', 'cumsum_searchcount', 'seat_to_search_ratio']], on=['srcid', 'destid', 'doj'], how='left')"
      ],
      "metadata": {
        "id": "SIKUniregpKF"
      },
      "execution_count": null,
      "outputs": []
    },
    {
      "cell_type": "code",
      "source": [
        "transactions_15['doj_dow'] = transactions_15['doj'].dt.dayofweek   # 0=Mon\n",
        "transactions_15['doj_month'] = transactions_15['doj'].dt.month\n",
        "transactions_15['is_weekend'] = transactions_15['doj_dow'].isin([5, 6])\n"
      ],
      "metadata": {
        "colab": {
          "base_uri": "https://localhost:8080/"
        },
        "id": "Pl59JDMGg36S",
        "outputId": "04bd83dc-281d-4a22-ee60-84e6e55dd378"
      },
      "execution_count": null,
      "outputs": [
        {
          "output_type": "stream",
          "name": "stderr",
          "text": [
            "<ipython-input-58-1516941279>:1: SettingWithCopyWarning: \n",
            "A value is trying to be set on a copy of a slice from a DataFrame.\n",
            "Try using .loc[row_indexer,col_indexer] = value instead\n",
            "\n",
            "See the caveats in the documentation: https://pandas.pydata.org/pandas-docs/stable/user_guide/indexing.html#returning-a-view-versus-a-copy\n",
            "  transactions_15['doj_dow'] = transactions_15['doj'].dt.dayofweek   # 0=Mon\n",
            "<ipython-input-58-1516941279>:2: SettingWithCopyWarning: \n",
            "A value is trying to be set on a copy of a slice from a DataFrame.\n",
            "Try using .loc[row_indexer,col_indexer] = value instead\n",
            "\n",
            "See the caveats in the documentation: https://pandas.pydata.org/pandas-docs/stable/user_guide/indexing.html#returning-a-view-versus-a-copy\n",
            "  transactions_15['doj_month'] = transactions_15['doj'].dt.month\n",
            "<ipython-input-58-1516941279>:3: SettingWithCopyWarning: \n",
            "A value is trying to be set on a copy of a slice from a DataFrame.\n",
            "Try using .loc[row_indexer,col_indexer] = value instead\n",
            "\n",
            "See the caveats in the documentation: https://pandas.pydata.org/pandas-docs/stable/user_guide/indexing.html#returning-a-view-versus-a-copy\n",
            "  transactions_15['is_weekend'] = transactions_15['doj_dow'].isin([5, 6])\n"
          ]
        }
      ]
    },
    {
      "cell_type": "code",
      "source": [
        "import holidays\n",
        "indian_holidays = holidays.India(years=[2023, 2024, 2025])\n",
        "\n",
        "transactions_15['is_holiday'] = transactions_15['doj'].isin(indian_holidays)\n"
      ],
      "metadata": {
        "colab": {
          "base_uri": "https://localhost:8080/"
        },
        "id": "q6jok1Yhg6s2",
        "outputId": "9367a1ca-899c-45f6-d1b7-e5096d64b8e2"
      },
      "execution_count": null,
      "outputs": [
        {
          "output_type": "stream",
          "name": "stderr",
          "text": [
            "<ipython-input-59-503769027>:4: FutureWarning: The behavior of 'isin' with dtype=datetime64[ns] and castable values (e.g. strings) is deprecated. In a future version, these will not be considered matching by isin. Explicitly cast to the appropriate dtype before calling isin instead.\n",
            "  transactions_15['is_holiday'] = transactions_15['doj'].isin(indian_holidays)\n",
            "<ipython-input-59-503769027>:4: SettingWithCopyWarning: \n",
            "A value is trying to be set on a copy of a slice from a DataFrame.\n",
            "Try using .loc[row_indexer,col_indexer] = value instead\n",
            "\n",
            "See the caveats in the documentation: https://pandas.pydata.org/pandas-docs/stable/user_guide/indexing.html#returning-a-view-versus-a-copy\n",
            "  transactions_15['is_holiday'] = transactions_15['doj'].isin(indian_holidays)\n"
          ]
        }
      ]
    },
    {
      "cell_type": "code",
      "source": [
        "route_stats = train.groupby(['srcid', 'destid']).agg({\n",
        "    'final_seatcount': ['mean', 'std', 'median']\n",
        "}).reset_index()\n",
        "\n",
        "route_stats.columns = ['srcid', 'destid', 'seat_mean', 'seat_std', 'seat_median']\n"
      ],
      "metadata": {
        "id": "KoCMt71rg-WR"
      },
      "execution_count": null,
      "outputs": []
    },
    {
      "cell_type": "code",
      "source": [
        "transactions_15 = transactions_15.merge(route_stats, on=['srcid', 'destid'], how='left')\n"
      ],
      "metadata": {
        "id": "g8A7V2QqhBs0"
      },
      "execution_count": null,
      "outputs": []
    },
    {
      "cell_type": "code",
      "source": [
        "velocity = transactions[transactions['dbd'] <= 15].groupby(['srcid', 'destid', 'doj'])[\n",
        "    ['cumsum_seatcount', 'cumsum_searchcount']\n",
        "].agg(['mean', 'std']).reset_index()\n"
      ],
      "metadata": {
        "id": "mASpaTTOhE3K"
      },
      "execution_count": null,
      "outputs": []
    },
    {
      "cell_type": "code",
      "source": [
        "train_fe = train.merge(transactions_15, on=['doj', 'srcid', 'destid'], how='left')\n",
        "test_fe = test.merge(transactions_15, on=['doj', 'srcid', 'destid'], how='left')\n"
      ],
      "metadata": {
        "id": "y6cIXAfIhHIg"
      },
      "execution_count": null,
      "outputs": []
    },
    {
      "cell_type": "markdown",
      "source": [
        "**Prepare Final model**"
      ],
      "metadata": {
        "id": "8feQOXKHhnmF"
      }
    },
    {
      "cell_type": "markdown",
      "source": [
        "Remove non-numeric columns (or encode them), and handle missing values:"
      ],
      "metadata": {
        "id": "2XgIs6HhhvCh"
      }
    },
    {
      "cell_type": "code",
      "source": [
        "from sklearn.preprocessing import LabelEncoder\n",
        "\n",
        "# Example for categorical columns\n",
        "for col in ['srcid_region', 'destid_region', 'srcid_tier', 'destid_tier']:\n",
        "    if col in train_fe.columns:\n",
        "        le = LabelEncoder()\n",
        "        train_fe[col] = le.fit_transform(train_fe[col].astype(str))\n",
        "        test_fe[col] = le.transform(test_fe[col].astype(str))  # Ensure same encoding\n"
      ],
      "metadata": {
        "id": "JNTZRN3VhJby"
      },
      "execution_count": null,
      "outputs": []
    },
    {
      "cell_type": "code",
      "source": [
        "common_cats = ['srcid_region', 'destid_region', 'srcid_tier', 'destid_tier']\n",
        "for col in common_cats:\n",
        "    if col not in test_fe.columns:\n",
        "        test_fe[col] = 'unknown'\n"
      ],
      "metadata": {
        "id": "Gbp2WLeWisZM"
      },
      "execution_count": null,
      "outputs": []
    },
    {
      "cell_type": "markdown",
      "source": [
        "Fill missing values"
      ],
      "metadata": {
        "id": "bc-K6orNhzrk"
      }
    },
    {
      "cell_type": "code",
      "source": [
        "train_fe.fillna(0, inplace=True)\n",
        "test_fe.fillna(0, inplace=True)\n"
      ],
      "metadata": {
        "id": "t7VfnzJ2hxJQ"
      },
      "execution_count": null,
      "outputs": []
    },
    {
      "cell_type": "markdown",
      "source": [
        "Define Feature Set and Target"
      ],
      "metadata": {
        "id": "C9f9ZeuLh4vP"
      }
    },
    {
      "cell_type": "code",
      "source": [
        "# Select transactions where dbd is 15 for feature engineering\n",
        "transactions_15 = transactions[transactions['dbd'] == 15].copy() # Use .copy() to avoid SettingWithCopyWarning\n",
        "\n",
        "# Ensure cumsum_seatcount and cumsum_searchcount are present (assuming they were calculated earlier)\n",
        "# If not, you'd need to add the cumulative calculations here as well.\n",
        "# For now, assume they exist in transactions_15 from a previous step.\n",
        "\n",
        "# Engineer the seat_to_search_ratio\n",
        "transactions_15['seat_to_search_ratio'] = transactions_15['cumsum_seatcount'] / (transactions_15['cumsum_searchcount'] + 1)\n",
        "\n",
        "# Engineer date-related features\n",
        "transactions_15['doj_dow'] = transactions_15['doj'].dt.dayofweek   # 0=Mon\n",
        "transactions_15['doj_month'] = transactions_15['doj'].dt.month\n",
        "transactions_15['is_weekend'] = transactions_15['doj_dow'].isin([5, 6])\n",
        "\n",
        "# Engineer holiday feature\n",
        "import holidays\n",
        "indian_holidays = holidays.India(years=[2023, 2024, 2025])\n",
        "transactions_15['is_holiday'] = transactions_15['doj'].isin(indian_holidays)\n",
        "\n",
        "# Engineer route statistics (assuming route_stats DataFrame exists from previous calculation on train)\n",
        "# If not, you'd need to add the route_stats calculation here as well.\n",
        "# route_stats = train.groupby(['srcid', 'destid']).agg({'final_seatcount': ['mean', 'std', 'median']}).reset_index()\n",
        "# route_stats.columns = ['srcid', 'destid', 'seat_mean', 'seat_std', 'seat_median']\n",
        "transactions_15 = transactions_15.merge(route_stats, on=['srcid', 'destid'], how='left')\n",
        "\n",
        "# Now merge the fully prepared transactions_15 with train and test\n",
        "train_fe = train.merge(transactions_15, on=['doj', 'srcid', 'destid'], how='left')\n",
        "test_fe = test.merge(transactions_15, on=['doj', 'srcid', 'destid'], how='left')\n",
        "\n",
        "# Handle categorical columns that might be missing in test_fe after the merge\n",
        "common_cats = ['srcid_region', 'destid_region', 'srcid_tier', 'destid_tier'] # Assuming these come from elsewhere or need handling\n",
        "for col in common_cats:\n",
        "    if col not in test_fe.columns:\n",
        "        # Assigning a default value like 'unknown' for potential later encoding,\n",
        "        # or check if these columns were supposed to come from the original test df.\n",
        "        # If they were in test, the merge should have kept them. If they were in\n",
        "        # transactions_15 (unlikely based on schema), the merge handles it.\n",
        "        # Assuming they might be missing from the original test or need consistent handling.\n",
        "        # A more robust approach might be to identify if these columns exist *at all*\n",
        "        # before assuming they should be added as 'unknown'. Based on the original\n",
        "        # code, they seem to be expected, implying they might be in the original\n",
        "        # train/test or added earlier. For safety, ensure they exist or are added\n",
        "        # consistently. Let's assume they are added as part of feature engineering,\n",
        "        # perhaps from another source or are meant to be handled. If they are not\n",
        "        # in the original train/test or transactions, adding 'unknown' might be\n",
        "        # a temporary fix. Review where these columns are supposed to originate.\n",
        "        # Given the context of LabelEncoding applied later, these must be categorical\n",
        "        # columns expected in the final feature set.\n",
        "        test_fe[col] = 'unknown' # Re-adding this logic to be safe after the merge\n",
        "\n",
        "# Fill missing values in both dataframes after all merges and additions\n",
        "train_fe.fillna(0, inplace=True)\n",
        "test_fe.fillna(0, inplace=True)\n",
        "\n",
        "# Define Feature Set and Target\n",
        "# Ensure features list only includes columns present in both train_fe and test_fe\n",
        "# This is a safer way to define features when dealing with potential merge issues.\n",
        "# Get columns from train_fe, exclude target and keys\n",
        "train_features = [col for col in train_fe.columns if col not in ['final_seatcount', 'doj', 'route_key']]\n",
        "\n",
        "# Filter this list to only include columns also present in test_fe\n",
        "features = [col for col in train_features if col in test_fe.columns]\n",
        "\n",
        "# Now select the features, this should prevent the KeyError\n",
        "X = train_fe[features]\n",
        "y = train_fe['final_seatcount']\n",
        "X_test = test_fe[features]\n",
        "\n",
        "# Print shapes and features to verify\n",
        "print(\"Shape of X:\", X.shape)\n",
        "print(\"Shape of X_test:\", X_test.shape)\n",
        "print(\"Features list:\", features)"
      ],
      "metadata": {
        "colab": {
          "base_uri": "https://localhost:8080/"
        },
        "id": "3_P6hLyTjJ0P",
        "outputId": "d8bf566c-414a-4f56-8bf4-6df62bf9ad5f"
      },
      "execution_count": null,
      "outputs": [
        {
          "output_type": "stream",
          "name": "stdout",
          "text": [
            "Shape of X: (67200, 18)\n",
            "Shape of X_test: (5900, 18)\n",
            "Features list: ['srcid', 'destid', 'doi', 'srcid_region', 'destid_region', 'srcid_tier', 'destid_tier', 'dbd', 'computed_dbd', 'day_of_week', 'month', 'is_weekend', 'doj_dow', 'doj_month', 'is_holiday', 'seat_mean', 'seat_std', 'seat_median']\n"
          ]
        },
        {
          "output_type": "stream",
          "name": "stderr",
          "text": [
            "<ipython-input-70-1806909379>:19: FutureWarning: The behavior of 'isin' with dtype=datetime64[ns] and castable values (e.g. strings) is deprecated. In a future version, these will not be considered matching by isin. Explicitly cast to the appropriate dtype before calling isin instead.\n",
            "  transactions_15['is_holiday'] = transactions_15['doj'].isin(indian_holidays)\n"
          ]
        }
      ]
    },
    {
      "cell_type": "markdown",
      "source": [
        "Train/Validation"
      ],
      "metadata": {
        "id": "QK-SeuNqjfzR"
      }
    },
    {
      "cell_type": "code",
      "source": [
        "from sklearn.model_selection import train_test_split\n",
        "\n",
        "X_train, X_val, y_train, y_val = train_test_split(X, y, test_size=0.2, random_state=42)\n"
      ],
      "metadata": {
        "id": "59ZTkGo8jZ6V"
      },
      "execution_count": null,
      "outputs": []
    },
    {
      "cell_type": "markdown",
      "source": [
        "**Train a Regressor (e.g., LightGBM)**"
      ],
      "metadata": {
        "id": "6HHR3KhzjluU"
      }
    },
    {
      "cell_type": "code",
      "source": [
        "from lightgbm import LGBMRegressor\n",
        "from sklearn.metrics import mean_squared_error\n",
        "from sklearn.preprocessing import LabelEncoder\n",
        "import pandas as pd # Ensure pandas is imported\n",
        "import holidays # Ensure holidays is imported\n",
        "import numpy as np # Import numpy for sqrt\n",
        "\n",
        "# Re-run the feature engineering and data preparation steps to ensure consistency\n",
        "\n",
        "# Select transactions where dbd is 15 for feature engineering\n",
        "# Use .copy() to avoid SettingWithCopyWarning\n",
        "transactions_15 = transactions[transactions['dbd'] == 15].copy()\n",
        "\n",
        "# Ensure cumsum_seatcount and cumsum_searchcount are present (assuming they were calculated earlier)\n",
        "# If not, you'd need to add the cumulative calculations here as well.\n",
        "# For now, assume they exist in transactions_15 from a previous step.\n",
        "\n",
        "# Engineer the seat_to_search_ratio\n",
        "transactions_15['seat_to_search_ratio'] = transactions_15['cumsum_seatcount'] / (transactions_15['cumsum_searchcount'] + 1)\n",
        "\n",
        "# Engineer date-related features\n",
        "transactions_15['doj_dow'] = transactions_15['doj'].dt.dayofweek   # 0=Mon\n",
        "transactions_15['doj_month'] = transactions_15['doj'].dt.month\n",
        "transactions_15['is_weekend'] = transactions_15['doj_dow'].isin([5, 6])\n",
        "\n",
        "# Engineer holiday feature\n",
        "# Re-initialize holidays if not in the current session state\n",
        "try:\n",
        "    indian_holidays\n",
        "except NameError:\n",
        "    indian_holidays = holidays.India(years=[2023, 2024, 2025])\n",
        "\n",
        "transactions_15['is_holiday'] = transactions_15['doj'].isin(indian_holidays)\n",
        "\n",
        "# Engineer route statistics (assuming route_stats DataFrame exists from previous calculation on train)\n",
        "# If not, you'd need to add the route_stats calculation here as well.\n",
        "# route_stats = train.groupby(['srcid', 'destid']).agg({'final_seatcount': ['mean', 'std', 'median']}).reset_index()\n",
        "# route_stats.columns = ['srcid', 'destid', 'seat_mean', 'seat_std', 'seat_median']\n",
        "try:\n",
        "    route_stats\n",
        "except NameError:\n",
        "    # Assuming train is available and route_stats needs to be calculated\n",
        "    route_stats = train.groupby(['srcid', 'destid']).agg({\n",
        "        'final_seatcount': ['mean', 'std', 'median']\n",
        "    }).reset_index()\n",
        "    route_stats.columns = ['srcid', 'destid', 'seat_mean', 'seat_std', 'seat_median']\n",
        "\n",
        "\n",
        "transactions_15 = transactions_15.merge(route_stats, on=['srcid', 'destid'], how='left')\n",
        "\n",
        "# --- FIX START ---\n",
        "# Drop 'doi' as it's a datetime column and not needed as a feature directly\n",
        "# If you needed features derived from doi, compute them *before* dropping doi\n",
        "if 'doi' in transactions_15.columns:\n",
        "    transactions_15 = transactions_15.drop('doi', axis=1)\n",
        "# --- FIX END ---\n",
        "\n",
        "\n",
        "# Now merge the fully prepared transactions_15 with train and test\n",
        "# Note: The original test dataframe `test` does not contain 'srcid_region', 'destid_region', etc.\n",
        "# These columns must be coming from the original `train` dataframe or added earlier.\n",
        "# The merge operation will bring columns from transactions_15.\n",
        "# We need to ensure train_fe and test_fe have the necessary columns *before* encoding.\n",
        "# Assuming srcid_region, etc. are in the original train/test or were added earlier.\n",
        "# If they are *not* in the original test, the merge won't add them, and adding 'unknown'\n",
        "# after the merge is necessary but needs to be done consistently with the encoding.\n",
        "\n",
        "# Let's assume common_cats columns are either in original train/test or added prior to this cell.\n",
        "# If they are *not* in the original test, the merge of transactions_15 won't add them.\n",
        "# The user's previous code added 'unknown' after the merge if they were missing in test_fe.\n",
        "# We will keep that logic but ensure encoding happens after this.\n",
        "train_fe = train.merge(transactions_15, on=['doj', 'srcid', 'destid'], how='left')\n",
        "test_fe = test.merge(transactions_15, on=['doj', 'srcid', 'destid'], how='left')\n",
        "\n",
        "# Handle categorical columns that might be missing in test_fe after the merge\n",
        "# This ensures both dataframes have these columns before encoding.\n",
        "common_cats = ['srcid_region', 'destid_region', 'srcid_tier', 'destid_tier']\n",
        "for col in common_cats:\n",
        "    if col not in test_fe.columns:\n",
        "        # Add the column to test_fe if missing, fill with a placeholder\n",
        "        test_fe[col] = 'unknown'\n",
        "\n",
        "# --- FIX START ---\n",
        "# Apply LabelEncoding *after* the merge to ensure categorical columns in train_fe and test_fe are encoded\n",
        "for col in common_cats:\n",
        "    if col in train_fe.columns and col in test_fe.columns:\n",
        "        le = LabelEncoder()\n",
        "        # Combine data from train and test to fit the encoder completely,\n",
        "        # handling potential categories present in one but not the other.\n",
        "        combined_data = pd.concat([train_fe[col], test_fe[col]], axis=0).astype(str).unique()\n",
        "        le.fit(combined_data)\n",
        "        train_fe[col] = le.transform(train_fe[col].astype(str))\n",
        "        test_fe[col] = le.transform(test_fe[col].astype(str))\n",
        "    elif col in train_fe.columns:\n",
        "         # Handle case where column is only in train_fe (shouldn't happen if features are selected correctly)\n",
        "         print(f\"Warning: Categorical column '{col}' found only in train_fe. Skipping encoding.\")\n",
        "# --- FIX END ---\n",
        "\n",
        "# Fill missing values in both dataframes after all merges, additions, and encoding\n",
        "# Use a value like -1 for encoded categories that were missing, instead of 0,\n",
        "# to distinguish them from potentially valid encoded categories.\n",
        "# However, since fillna(0) was used before, let's stick to it for consistency,\n",
        "# but be aware this might conflate missing values with category 0.\n",
        "# A better approach for encoded columns might be to fill before encoding\n",
        "# or fill with a specific value like -1 *after* encoding.\n",
        "# Given the original code used fillna(0) after the merge and before encoding,\n",
        "# and now encoding is moved *after* the merge, let's apply fillna(0) after both.\n",
        "# Note: This might fill missing *numerical* values with 0 as well.\n",
        "# If specific filling strategies are needed per column type, they should be applied here.\n",
        "train_fe.fillna(0, inplace=True)\n",
        "test_fe.fillna(0, inplace=True)\n",
        "\n",
        "\n",
        "# Define Feature Set and Target\n",
        "# Ensure features list only includes columns present in both train_fe and test_fe\n",
        "# Exclude non-feature columns like target, keys, and the original datetime column 'doj'\n",
        "exclude_cols = ['final_seatcount', 'doj', 'route_key', 'doi'] # Explicitly exclude 'doi'\n",
        "\n",
        "# Get columns from train_fe, exclude target and keys\n",
        "train_features = [col for col in train_fe.columns if col not in exclude_cols]\n",
        "\n",
        "# Filter this list to only include columns also present in test_fe\n",
        "features = [col for col in train_features if col in test_fe.columns]\n",
        "\n",
        "# Now select the features, this should prevent the KeyError and dtype issues for these columns\n",
        "# Check the dtypes of the selected feature columns before passing to LightGBM\n",
        "print(\"Dtypes of selected features in train_fe:\")\n",
        "print(train_fe[features].dtypes)\n",
        "print(\"\\nDtypes of selected features in test_fe:\")\n",
        "print(test_fe[features].dtypes)\n",
        "\n",
        "X = train_fe[features]\n",
        "y = train_fe['final_seatcount']\n",
        "X_test = test_fe[features]\n",
        "\n",
        "# Print shapes and features to verify\n",
        "print(\"\\nShape of X:\", X.shape)\n",
        "print(\"Shape of X_test:\", X_test.shape)\n",
        "print(\"Features list:\", features)\n",
        "\n",
        "# --- Re-run train/validation split ---\n",
        "from sklearn.model_selection import train_test_split\n",
        "\n",
        "X_train, X_val, y_train, y_val = train_test_split(X, y, test_size=0.2, random_state=42)\n",
        "\n",
        "# --- Re-run LightGBM training ---\n",
        "# Pass early_stopping_rounds and verbose to the constructor\n",
        "# early_stopping_rounds is deprecated in favor of early_stopping_callback\n",
        "# Let's use the recommended callback approach\n",
        "from lightgbm import early_stopping\n",
        "\n",
        "# Define the early stopping callback\n",
        "callbacks = [early_stopping(stopping_rounds=50, verbose=False)] # Set verbose=True to see stopping messages\n",
        "\n",
        "model = LGBMRegressor(n_estimators=1000) # Remove early_stopping_rounds from constructor\n",
        "\n",
        "# Pass eval_set and callbacks to the fit method\n",
        "# Use eval_metric='rmse' if you want to monitor that specifically during training\n",
        "model.fit(X_train, y_train,\n",
        "          eval_set=[(X_val, y_val)],\n",
        "          callbacks=callbacks,\n",
        "          eval_metric='rmse') # Specify the metric to monitor\n",
        "\n",
        "# --- FIX START ---\n",
        "# Calculate MSE first, then take the square root for RMSE\n",
        "mse = mean_squared_error(y_val, y_pred) # Removed squared=False\n",
        "rmse = np.sqrt(mse) # Calculate RMSE using numpy.sqrt\n",
        "# --- FIX END ---\n",
        "\n",
        "print(f\"Validation RMSE: {rmse:.4f}\")"
      ],
      "metadata": {
        "colab": {
          "base_uri": "https://localhost:8080/"
        },
        "id": "509hwuUzj7zr",
        "outputId": "02d596de-ff04-4edf-cf11-a22f0d82ce48"
      },
      "execution_count": null,
      "outputs": [
        {
          "output_type": "stream",
          "name": "stderr",
          "text": [
            "<ipython-input-75-4081561500>:33: FutureWarning: The behavior of 'isin' with dtype=datetime64[ns] and castable values (e.g. strings) is deprecated. In a future version, these will not be considered matching by isin. Explicitly cast to the appropriate dtype before calling isin instead.\n",
            "  transactions_15['is_holiday'] = transactions_15['doj'].isin(indian_holidays)\n"
          ]
        },
        {
          "output_type": "stream",
          "name": "stdout",
          "text": [
            "Dtypes of selected features in train_fe:\n",
            "srcid              int64\n",
            "destid             int64\n",
            "srcid_region       int64\n",
            "destid_region      int64\n",
            "srcid_tier         int64\n",
            "destid_tier        int64\n",
            "dbd                int64\n",
            "computed_dbd       int64\n",
            "day_of_week        int32\n",
            "month              int32\n",
            "is_weekend          bool\n",
            "doj_dow            int32\n",
            "doj_month          int32\n",
            "is_holiday          bool\n",
            "seat_mean        float64\n",
            "seat_std         float64\n",
            "seat_median      float64\n",
            "dtype: object\n",
            "\n",
            "Dtypes of selected features in test_fe:\n",
            "srcid              int64\n",
            "destid             int64\n",
            "srcid_region       int64\n",
            "destid_region      int64\n",
            "srcid_tier         int64\n",
            "destid_tier        int64\n",
            "dbd                int64\n",
            "computed_dbd       int64\n",
            "day_of_week        int32\n",
            "month              int32\n",
            "is_weekend          bool\n",
            "doj_dow            int32\n",
            "doj_month          int32\n",
            "is_holiday          bool\n",
            "seat_mean        float64\n",
            "seat_std         float64\n",
            "seat_median      float64\n",
            "dtype: object\n",
            "\n",
            "Shape of X: (67200, 17)\n",
            "Shape of X_test: (5900, 17)\n",
            "Features list: ['srcid', 'destid', 'srcid_region', 'destid_region', 'srcid_tier', 'destid_tier', 'dbd', 'computed_dbd', 'day_of_week', 'month', 'is_weekend', 'doj_dow', 'doj_month', 'is_holiday', 'seat_mean', 'seat_std', 'seat_median']\n",
            "[LightGBM] [Info] Auto-choosing row-wise multi-threading, the overhead of testing was 0.010148 seconds.\n",
            "You can set `force_row_wise=true` to remove the overhead.\n",
            "And if memory is not enough, you can set `force_col_wise=true`.\n",
            "[LightGBM] [Info] Total Bins 461\n",
            "[LightGBM] [Info] Number of data points in the train set: 53760, number of used features: 15\n",
            "[LightGBM] [Info] Start training from score 2003.632533\n",
            "Validation RMSE: 646.0414\n"
          ]
        }
      ]
    },
    {
      "cell_type": "code",
      "source": [
        "test_fe['final_seatcount'] = model.predict(X_test)\n",
        "submission = test_fe[['route_key', 'final_seatcount']]\n",
        "submission.to_csv(\"submission.csv\", index=False)\n"
      ],
      "metadata": {
        "id": "BCgwNVhYkPJs"
      },
      "execution_count": null,
      "outputs": []
    },
    {
      "cell_type": "code",
      "source": [],
      "metadata": {
        "id": "XbxP-ultkTr5"
      },
      "execution_count": null,
      "outputs": []
    }
  ]
}